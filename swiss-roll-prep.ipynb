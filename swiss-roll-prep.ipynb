{
 "cells": [
  {
   "cell_type": "code",
   "execution_count": 1,
   "id": "bc3065df",
   "metadata": {
    "_cell_guid": "001e3216-51cd-465b-b53c-85ea34694c91",
    "_uuid": "2c118fde-26ba-4010-84e0-57fea7bd595e",
    "collapsed": false,
    "execution": {
     "iopub.execute_input": "2025-06-25T13:42:30.765659Z",
     "iopub.status.busy": "2025-06-25T13:42:30.765284Z",
     "iopub.status.idle": "2025-06-25T13:42:36.869991Z",
     "shell.execute_reply": "2025-06-25T13:42:36.868911Z"
    },
    "jupyter": {
     "outputs_hidden": false
    },
    "papermill": {
     "duration": 6.110273,
     "end_time": "2025-06-25T13:42:36.871776",
     "exception": false,
     "start_time": "2025-06-25T13:42:30.761503",
     "status": "completed"
    },
    "tags": []
   },
   "outputs": [
    {
     "name": "stdout",
     "output_type": "stream",
     "text": [
      "Preparing the swiss-roll data...\n",
      "Saved datasets to: /kaggle/working/swiss_roll_data\n",
      "Done.\n"
     ]
    }
   ],
   "source": [
    "# Copyright 2024 authors of the paper \"Generative Topological Networks\".\n",
    "# Licensed under the Apache License, Version 2.0\n",
    "\n",
    "import os\n",
    "import math\n",
    "import numpy as np\n",
    "import torch\n",
    "\n",
    "# Set device\n",
    "DEVICE = torch.device(\"cuda\" if torch.cuda.is_available() else \"cpu\")\n",
    "\n",
    "# === Helpers (replacing make_dirs and save_dataset_as_torch) ===\n",
    "\n",
    "def make_dirs(paths):\n",
    "    for path in paths:\n",
    "        os.makedirs(path, exist_ok=True)\n",
    "\n",
    "def save_dataset_as_torch(train, val, test, dir_dataset, scale_01=True):\n",
    "    if scale_01:\n",
    "        # Min-max scale to [0, 1] for each set independently\n",
    "        def scale(data):\n",
    "            min_val = data.min()\n",
    "            max_val = data.max()\n",
    "            return (data - min_val) / (max_val - min_val + 1e-8)\n",
    "\n",
    "        train = scale(train)\n",
    "        val = scale(val)\n",
    "        test = scale(test)\n",
    "\n",
    "    torch.save(train, os.path.join(dir_dataset, 'train.pt'))\n",
    "    torch.save(val, os.path.join(dir_dataset, 'val.pt'))\n",
    "    torch.save(test, os.path.join(dir_dataset, 'test.pt'))\n",
    "    print(f\"Saved datasets to: {dir_dataset}\")\n",
    "\n",
    "# === Main logic ===\n",
    "\n",
    "def make_swiss_roll_dataset(dir_dataset, n_samples):\n",
    "    make_dirs([dir_dataset])\n",
    "\n",
    "    # train set\n",
    "    a = np.random.uniform(1.5 * math.pi, 4.5 * math.pi, size=n_samples)\n",
    "    a_train = torch.tensor(sorted(a), device=DEVICE).unsqueeze(1)\n",
    "\n",
    "    # val set\n",
    "    a = np.random.uniform(1.5 * math.pi, 4.5 * math.pi, size=n_samples // 5)\n",
    "    a_val = torch.tensor(sorted(a)).unsqueeze(1)\n",
    "\n",
    "    # test set\n",
    "    a = np.random.uniform(1.5 * math.pi, 4.5 * math.pi, size=n_samples // 5)\n",
    "    a_test = torch.tensor(sorted(a)).unsqueeze(1)\n",
    "\n",
    "    save_dataset_as_torch(a_train, a_val, a_test, dir_dataset, scale_01=True)\n",
    "\n",
    "# === Run in Kaggle Notebook ===\n",
    "\n",
    "if __name__ == '__main__':\n",
    "    print(\"Preparing the swiss-roll data...\")\n",
    "    make_swiss_roll_dataset('/kaggle/working/swiss_roll_data', n_samples=100000)\n",
    "    print(\"Done.\")\n"
   ]
  }
 ],
 "metadata": {
  "kaggle": {
   "accelerator": "none",
   "dataSources": [],
   "dockerImageVersionId": 31040,
   "isGpuEnabled": false,
   "isInternetEnabled": true,
   "language": "python",
   "sourceType": "notebook"
  },
  "kernelspec": {
   "display_name": "Python 3",
   "language": "python",
   "name": "python3"
  },
  "language_info": {
   "codemirror_mode": {
    "name": "ipython",
    "version": 3
   },
   "file_extension": ".py",
   "mimetype": "text/x-python",
   "name": "python",
   "nbconvert_exporter": "python",
   "pygments_lexer": "ipython3",
   "version": "3.11.11"
  },
  "papermill": {
   "default_parameters": {},
   "duration": 14.385387,
   "end_time": "2025-06-25T13:42:39.462654",
   "environment_variables": {},
   "exception": null,
   "input_path": "__notebook__.ipynb",
   "output_path": "__notebook__.ipynb",
   "parameters": {},
   "start_time": "2025-06-25T13:42:25.077267",
   "version": "2.6.0"
  }
 },
 "nbformat": 4,
 "nbformat_minor": 5
}
